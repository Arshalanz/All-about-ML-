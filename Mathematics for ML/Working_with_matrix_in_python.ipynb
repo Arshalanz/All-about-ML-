{
  "cells": [
    {
      "cell_type": "code",
      "execution_count": 2,
      "metadata": {
        "id": "tdcylGJb3-8u"
      },
      "outputs": [],
      "source": [
        "import numpy as np"
      ]
    },
    {
      "cell_type": "markdown",
      "metadata": {
        "id": "iMpKyFNy4McW"
      },
      "source": [
        "Creating a matrix using Numpy"
      ]
    },
    {
      "cell_type": "code",
      "execution_count": 3,
      "metadata": {
        "colab": {
          "base_uri": "https://localhost:8080/"
        },
        "id": "O_eQ0FJv4FDF",
        "outputId": "deee7e9a-6185-44f0-81b9-10460d555835"
      },
      "outputs": [
        {
          "output_type": "stream",
          "name": "stdout",
          "text": [
            "[[2 3]\n",
            " [6 7]]\n"
          ]
        }
      ],
      "source": [
        "matrix_1 = np.array([[2,3],[6,7]])\n",
        "print(matrix_1)"
      ]
    },
    {
      "cell_type": "code",
      "execution_count": 4,
      "metadata": {
        "colab": {
          "base_uri": "https://localhost:8080/"
        },
        "id": "CbQtXNHv4jwR",
        "outputId": "128410bc-0a3f-424b-d5e9-bc205da29403"
      },
      "outputs": [
        {
          "output_type": "execute_result",
          "data": {
            "text/plain": [
              "(2, 2)"
            ]
          },
          "metadata": {},
          "execution_count": 4
        }
      ],
      "source": [
        "matrix_1.shape"
      ]
    },
    {
      "cell_type": "code",
      "execution_count": 5,
      "metadata": {
        "colab": {
          "base_uri": "https://localhost:8080/"
        },
        "id": "iPdrxgMk44HF",
        "outputId": "053a0eed-db01-4978-ad6e-18be17334a9a"
      },
      "outputs": [
        {
          "output_type": "stream",
          "name": "stdout",
          "text": [
            "[[2 3 5]\n",
            " [6 7 4]\n",
            " [4 9 6]]\n"
          ]
        }
      ],
      "source": [
        "matrix_2 = np.array([[2,3,5],[6,7,4], [4,9,6]])\n",
        "print(matrix_2)"
      ]
    },
    {
      "cell_type": "code",
      "execution_count": 6,
      "metadata": {
        "colab": {
          "base_uri": "https://localhost:8080/"
        },
        "id": "1pQFHvXO5Iqh",
        "outputId": "2d76cfe8-f61e-45dd-a887-7ebd7b5ef11c"
      },
      "outputs": [
        {
          "output_type": "execute_result",
          "data": {
            "text/plain": [
              "(3, 3)"
            ]
          },
          "metadata": {},
          "execution_count": 6
        }
      ],
      "source": [
        "matrix_2.shape"
      ]
    },
    {
      "cell_type": "code",
      "execution_count": 7,
      "metadata": {
        "colab": {
          "base_uri": "https://localhost:8080/"
        },
        "id": "axzAHAkS5PB8",
        "outputId": "762fef2e-e5b1-438a-c5d8-4a66e75afa31"
      },
      "outputs": [
        {
          "output_type": "stream",
          "name": "stdout",
          "text": [
            "[[0.98897822 0.51528971 0.18532234]\n",
            " [0.38542932 0.22158382 0.50364583]\n",
            " [0.45576394 0.69821051 0.61937334]]\n"
          ]
        }
      ],
      "source": [
        "random_matrix = np.random.rand(3,3)\n",
        "print(random_matrix)"
      ]
    },
    {
      "cell_type": "code",
      "execution_count": 8,
      "metadata": {
        "colab": {
          "base_uri": "https://localhost:8080/"
        },
        "id": "FU_125Ad5dOO",
        "outputId": "3662ab80-e37b-46c3-8c44-80776ee33221"
      },
      "outputs": [
        {
          "output_type": "stream",
          "name": "stdout",
          "text": [
            "[[[0.49830191 0.32222754 0.07243708 0.08389891 0.15627354]\n",
            "  [0.39792887 0.71160273 0.46295645 0.13663277 0.23311778]\n",
            "  [0.40009461 0.85665171 0.38251228 0.29077435 0.2306262 ]\n",
            "  [0.31357418 0.47652501 0.23009739 0.34787262 0.26256005]]\n",
            "\n",
            " [[0.05392215 0.09605385 0.97840079 0.81865369 0.61977362]\n",
            "  [0.03814013 0.69353514 0.22441472 0.81658073 0.79654703]\n",
            "  [0.63454051 0.12228193 0.05625947 0.39238662 0.53711462]\n",
            "  [0.86789672 0.76264949 0.57526794 0.66880359 0.14689428]]\n",
            "\n",
            " [[0.73803721 0.44855902 0.14080734 0.47811125 0.90316517]\n",
            "  [0.17486574 0.13094141 0.00581689 0.11739824 0.57777436]\n",
            "  [0.3629192  0.14746987 0.61919973 0.49963531 0.83926371]\n",
            "  [0.73951495 0.64155037 0.8040923  0.04370693 0.06542194]]\n",
            "\n",
            " ...\n",
            "\n",
            " [[0.70671561 0.90654756 0.84589225 0.92913599 0.48005225]\n",
            "  [0.92861699 0.22219713 0.75738638 0.95440023 0.33916911]\n",
            "  [0.36240082 0.0802032  0.83354103 0.30164764 0.14118494]\n",
            "  [0.681734   0.15633532 0.57369934 0.42434134 0.58375852]]\n",
            "\n",
            " [[0.75300195 0.33860927 0.33743118 0.41387156 0.42496592]\n",
            "  [0.59513717 0.84732193 0.37877746 0.47725143 0.07310126]\n",
            "  [0.69717417 0.20118999 0.85389411 0.42881232 0.07623447]\n",
            "  [0.9774201  0.54951645 0.05684916 0.48791938 0.30455091]]\n",
            "\n",
            " [[0.18409106 0.67914647 0.14442162 0.10849372 0.479567  ]\n",
            "  [0.3468783  0.64836148 0.69210636 0.6979708  0.94706765]\n",
            "  [0.49808959 0.51458057 0.94921706 0.58450452 0.39172192]\n",
            "  [0.73753322 0.52762318 0.58377089 0.8818459  0.69825392]]]\n"
          ]
        }
      ],
      "source": [
        "#creating matrix with random integers\n",
        "random_matrix = np.random.rand(100,4,5)\n",
        "print(random_matrix)"
      ]
    },
    {
      "cell_type": "markdown",
      "metadata": {
        "id": "xK2rwnSA7x97"
      },
      "source": [
        "matrix qith all the value 1"
      ]
    },
    {
      "cell_type": "code",
      "execution_count": 9,
      "metadata": {
        "colab": {
          "base_uri": "https://localhost:8080/"
        },
        "id": "msL7sDEx51f_",
        "outputId": "fbed57a5-1e8a-4c9a-fa9c-c2ef86486097"
      },
      "outputs": [
        {
          "output_type": "stream",
          "name": "stdout",
          "text": [
            "[[1 1 1]\n",
            " [1 1 1]\n",
            " [1 1 1]]\n"
          ]
        }
      ],
      "source": [
        "matrix_3 = np.ones((3,3), dtype=int)\n",
        "print(matrix_3)"
      ]
    },
    {
      "cell_type": "markdown",
      "metadata": {
        "id": "TTCiz7j_8M1a"
      },
      "source": [
        "NUll matrix or zero matrix"
      ]
    },
    {
      "cell_type": "code",
      "execution_count": 10,
      "metadata": {
        "colab": {
          "base_uri": "https://localhost:8080/"
        },
        "id": "b92PHNTv7706",
        "outputId": "291d2ea3-ada8-46a8-afe7-a26b745237ee"
      },
      "outputs": [
        {
          "output_type": "stream",
          "name": "stdout",
          "text": [
            "[[0 0 0]\n",
            " [0 0 0]\n",
            " [0 0 0]]\n"
          ]
        }
      ],
      "source": [
        "null_matrix = np.zeros((3,3), dtype= int)\n",
        "print(null_matrix)"
      ]
    },
    {
      "cell_type": "markdown",
      "metadata": {
        "id": "m5DkOA3k8fHJ"
      },
      "source": [
        "identity matrix"
      ]
    },
    {
      "cell_type": "code",
      "execution_count": 11,
      "metadata": {
        "colab": {
          "base_uri": "https://localhost:8080/"
        },
        "id": "mdZ_A3wz8aVD",
        "outputId": "a768820a-69a4-41b9-c0be-d170d9bdd951"
      },
      "outputs": [
        {
          "output_type": "stream",
          "name": "stdout",
          "text": [
            "[[1. 0. 0.]\n",
            " [0. 1. 0.]\n",
            " [0. 0. 1.]]\n"
          ]
        }
      ],
      "source": [
        "identity_matrix = np.eye(3,3)\n",
        "print(identity_matrix)"
      ]
    },
    {
      "cell_type": "markdown",
      "metadata": {
        "id": "LU3t7old9BQ5"
      },
      "source": [
        "Transpose of matrix"
      ]
    },
    {
      "cell_type": "code",
      "execution_count": 12,
      "metadata": {
        "colab": {
          "base_uri": "https://localhost:8080/"
        },
        "id": "RwTKokK28pYb",
        "outputId": "9d56166b-36f1-49d7-daa4-c16b48435aae"
      },
      "outputs": [
        {
          "output_type": "stream",
          "name": "stdout",
          "text": [
            "[[31 15 65]\n",
            " [67 15 27]\n",
            " [40 32  5]]\n"
          ]
        }
      ],
      "source": [
        "a = np.random.randint(100 , size= (3,3))\n",
        "print(a)"
      ]
    },
    {
      "cell_type": "code",
      "execution_count": 13,
      "metadata": {
        "colab": {
          "base_uri": "https://localhost:8080/"
        },
        "id": "Sz0c-yf49LMs",
        "outputId": "b91771e5-ee4a-474a-8fbe-2400977758a9"
      },
      "outputs": [
        {
          "output_type": "stream",
          "name": "stdout",
          "text": [
            "[[31 67 40]\n",
            " [15 15 32]\n",
            " [65 27  5]]\n"
          ]
        }
      ],
      "source": [
        "transpose_of_a = np.transpose(a)\n",
        "print(transpose_of_a)"
      ]
    },
    {
      "cell_type": "markdown",
      "metadata": {
        "id": "qkaQInvj--8H"
      },
      "source": [
        "**Addition of Matrix** -\n",
        "two matrices can be added only if have same shape that means both matrices should have same numbers row column"
      ]
    },
    {
      "cell_type": "code",
      "execution_count": 14,
      "metadata": {
        "id": "BipTMvLM9WCL"
      },
      "outputs": [],
      "source": [
        "#creating matrices\n",
        "A= np.array([[2,3],[6,7]])\n",
        "B= np.array([[2,3],[6,7]])"
      ]
    },
    {
      "cell_type": "code",
      "execution_count": 15,
      "metadata": {
        "colab": {
          "base_uri": "https://localhost:8080/"
        },
        "id": "l_zVBrBkBF5m",
        "outputId": "67cc8c71-2fd8-47cc-eee1-2216680ef33e"
      },
      "outputs": [
        {
          "output_type": "stream",
          "name": "stdout",
          "text": [
            "[[2 3]\n",
            " [6 7]]\n",
            "[[2 3]\n",
            " [6 7]]\n"
          ]
        }
      ],
      "source": [
        "print(A)\n",
        "print(B)"
      ]
    },
    {
      "cell_type": "code",
      "execution_count": 16,
      "metadata": {
        "colab": {
          "base_uri": "https://localhost:8080/"
        },
        "id": "oJ5RA42ABJm0",
        "outputId": "69211a4a-9125-46c6-814f-3774e6201e57"
      },
      "outputs": [
        {
          "output_type": "stream",
          "name": "stdout",
          "text": [
            "[[ 4  6]\n",
            " [12 14]]\n"
          ]
        }
      ],
      "source": [
        "#addition of matrix\n",
        "c= A+B\n",
        "print(c)"
      ]
    },
    {
      "cell_type": "code",
      "execution_count": 17,
      "metadata": {
        "id": "nk0yv2cZBPBe"
      },
      "outputs": [],
      "source": [
        "#creating two matrices with random value\n",
        "matrix_1 = np.random.randint(10 , size= (3,3))\n",
        "matrix_2 = np.random.randint(20 , size= (3,3))"
      ]
    },
    {
      "cell_type": "code",
      "execution_count": 18,
      "metadata": {
        "colab": {
          "base_uri": "https://localhost:8080/"
        },
        "id": "3A04kKDDBuB7",
        "outputId": "64a9879f-3569-4f8c-c0b6-365fcc5b9e0b"
      },
      "outputs": [
        {
          "output_type": "stream",
          "name": "stdout",
          "text": [
            "[[5 8 7]\n",
            " [1 4 8]\n",
            " [5 7 3]]\n"
          ]
        }
      ],
      "source": [
        "print(matrix_1)\n"
      ]
    },
    {
      "cell_type": "code",
      "execution_count": 19,
      "metadata": {
        "colab": {
          "base_uri": "https://localhost:8080/"
        },
        "id": "ySS2R71ZCUQr",
        "outputId": "76d3feac-b31e-4b0d-8ed7-26833a69dd59"
      },
      "outputs": [
        {
          "output_type": "stream",
          "name": "stdout",
          "text": [
            "[[18  7  1]\n",
            " [14 14  7]\n",
            " [ 3 11 15]]\n"
          ]
        }
      ],
      "source": [
        "print(matrix_2)"
      ]
    },
    {
      "cell_type": "code",
      "execution_count": 20,
      "metadata": {
        "colab": {
          "base_uri": "https://localhost:8080/"
        },
        "id": "Ax5lCkQYB3E4",
        "outputId": "a25fe7b2-2edb-477d-edb4-bc551dcc602e"
      },
      "outputs": [
        {
          "output_type": "stream",
          "name": "stdout",
          "text": [
            "[[23 15  8]\n",
            " [15 18 15]\n",
            " [ 8 18 18]]\n"
          ]
        }
      ],
      "source": [
        "sum = np.add(matrix_1 , matrix_2)\n",
        "print(sum)"
      ]
    },
    {
      "cell_type": "code",
      "execution_count": 21,
      "metadata": {
        "id": "RvXrshBuCEEg"
      },
      "outputs": [],
      "source": [
        "#creating two matrices with random value\n",
        "matrix_1 = np.random.randint(10 , size= (3,3))\n",
        "matrix_2 = np.random.randint(20 , size= (3,4))"
      ]
    },
    {
      "cell_type": "code",
      "execution_count": 22,
      "metadata": {
        "colab": {
          "base_uri": "https://localhost:8080/"
        },
        "id": "jx0iZCnbCtZV",
        "outputId": "e93b3b73-9d38-4279-c941-6416c6d23368"
      },
      "outputs": [
        {
          "output_type": "stream",
          "name": "stdout",
          "text": [
            "[[1 4 5]\n",
            " [1 2 2]\n",
            " [8 3 6]]\n",
            "[[16  9 10  1]\n",
            " [13 11  7 12]\n",
            " [ 4  0 19  4]]\n"
          ]
        }
      ],
      "source": [
        "print(matrix_1)\n",
        "print(matrix_2)"
      ]
    },
    {
      "cell_type": "code",
      "execution_count": 23,
      "metadata": {
        "colab": {
          "base_uri": "https://localhost:8080/",
          "height": 158
        },
        "id": "3K2mcQTPCvKY",
        "outputId": "e84b2557-4475-40d0-c17e-5284e5e0cf6e"
      },
      "outputs": [
        {
          "output_type": "error",
          "ename": "ValueError",
          "evalue": "operands could not be broadcast together with shapes (3,3) (3,4) ",
          "traceback": [
            "\u001b[0;31m---------------------------------------------------------------------------\u001b[0m",
            "\u001b[0;31mValueError\u001b[0m                                Traceback (most recent call last)",
            "\u001b[0;32m<ipython-input-23-a000f4d9bfca>\u001b[0m in \u001b[0;36m<cell line: 1>\u001b[0;34m()\u001b[0m\n\u001b[0;32m----> 1\u001b[0;31m \u001b[0msum\u001b[0m \u001b[0;34m=\u001b[0m \u001b[0mnp\u001b[0m\u001b[0;34m.\u001b[0m\u001b[0madd\u001b[0m\u001b[0;34m(\u001b[0m\u001b[0mmatrix_1\u001b[0m \u001b[0;34m,\u001b[0m \u001b[0mmatrix_2\u001b[0m\u001b[0;34m)\u001b[0m\u001b[0;34m\u001b[0m\u001b[0;34m\u001b[0m\u001b[0m\n\u001b[0m\u001b[1;32m      2\u001b[0m \u001b[0mprint\u001b[0m\u001b[0;34m(\u001b[0m\u001b[0msum\u001b[0m\u001b[0;34m)\u001b[0m\u001b[0;34m\u001b[0m\u001b[0;34m\u001b[0m\u001b[0m\n",
            "\u001b[0;31mValueError\u001b[0m: operands could not be broadcast together with shapes (3,3) (3,4) "
          ]
        }
      ],
      "source": [
        "sum = np.add(matrix_1 , matrix_2)\n",
        "print(sum)"
      ]
    },
    {
      "cell_type": "markdown",
      "metadata": {
        "id": "TJ38SlWSC1JK"
      },
      "source": [
        "We get this error because of diffrent shape of the matrix"
      ]
    },
    {
      "cell_type": "markdown",
      "metadata": {
        "id": "DbboxwZdDJll"
      },
      "source": [
        "Subtraction of the matrices"
      ]
    },
    {
      "cell_type": "code",
      "execution_count": 24,
      "metadata": {
        "colab": {
          "base_uri": "https://localhost:8080/"
        },
        "id": "6qfkmcq2Cyfu",
        "outputId": "4c55f83c-d2e5-4b35-a58b-9f6476fcde6a"
      },
      "outputs": [
        {
          "output_type": "stream",
          "name": "stdout",
          "text": [
            "[[2 3]\n",
            " [6 7]]\n",
            "[[2 3]\n",
            " [6 7]]\n"
          ]
        }
      ],
      "source": [
        "#creating matrices for diffrence operation\n",
        "A = np.array([[2,3],[6,7]])\n",
        "B = np.array([[2,3],[6,7]])\n",
        "print(A)\n",
        "print(B)"
      ]
    },
    {
      "cell_type": "code",
      "execution_count": 25,
      "metadata": {
        "colab": {
          "base_uri": "https://localhost:8080/"
        },
        "id": "NNEA9krADPiY",
        "outputId": "864e963c-c922-4c7f-bfb8-b5ba1d79a253"
      },
      "outputs": [
        {
          "output_type": "stream",
          "name": "stdout",
          "text": [
            "[[0 0]\n",
            " [0 0]]\n"
          ]
        }
      ],
      "source": [
        "diffrence= A-B\n",
        "print(diffrence)"
      ]
    },
    {
      "cell_type": "code",
      "source": [
        "diff =np.subtract(A,B)\n",
        "print(diff)"
      ],
      "metadata": {
        "colab": {
          "base_uri": "https://localhost:8080/"
        },
        "id": "lE8PVUh-4CuF",
        "outputId": "6bcf5619-2f6c-4c9b-9156-74aa3f9875cb"
      },
      "execution_count": 26,
      "outputs": [
        {
          "output_type": "stream",
          "name": "stdout",
          "text": [
            "[[0 0]\n",
            " [0 0]]\n"
          ]
        }
      ]
    },
    {
      "cell_type": "code",
      "source": [
        "A = np.array([[2,3],[6,8]])\n",
        "B = 2*A\n",
        "print(B)"
      ],
      "metadata": {
        "colab": {
          "base_uri": "https://localhost:8080/"
        },
        "id": "LTq5SiV74ehP",
        "outputId": "e6ffa0af-0944-4c77-eba9-fe618fc3a1f5"
      },
      "execution_count": 27,
      "outputs": [
        {
          "output_type": "stream",
          "name": "stdout",
          "text": [
            "[[ 4  6]\n",
            " [12 16]]\n"
          ]
        }
      ]
    },
    {
      "cell_type": "code",
      "source": [
        "A = 5\n",
        "Y = np.array([[2,3],[6,8]])\n",
        "print(Y)"
      ],
      "metadata": {
        "colab": {
          "base_uri": "https://localhost:8080/"
        },
        "id": "fCpALfys49GL",
        "outputId": "cfebd9fc-eeea-4d66-e7d3-b24d43394989"
      },
      "execution_count": 28,
      "outputs": [
        {
          "output_type": "stream",
          "name": "stdout",
          "text": [
            "[[2 3]\n",
            " [6 8]]\n"
          ]
        }
      ]
    },
    {
      "cell_type": "code",
      "source": [
        "product = np.multiply(A,Y)\n",
        "print(product)"
      ],
      "metadata": {
        "colab": {
          "base_uri": "https://localhost:8080/"
        },
        "id": "EXLDnvb05MUP",
        "outputId": "8a281ac1-3361-49aa-a8eb-0579a134493d"
      },
      "execution_count": 30,
      "outputs": [
        {
          "output_type": "stream",
          "name": "stdout",
          "text": [
            "[[10 15]\n",
            " [30 40]]\n"
          ]
        }
      ]
    },
    {
      "cell_type": "markdown",
      "source": [
        "multiplying two Matrices"
      ],
      "metadata": {
        "id": "E4GR07VC5fDB"
      }
    },
    {
      "cell_type": "code",
      "source": [
        "matrix_6 = np.random.randint(5, size= (3,4))\n",
        "matrix_4 = np.random.randint(10, size= (3,4))"
      ],
      "metadata": {
        "id": "8oZvE5yM5SYz"
      },
      "execution_count": 49,
      "outputs": []
    },
    {
      "cell_type": "code",
      "source": [
        "print(matrix_6)"
      ],
      "metadata": {
        "colab": {
          "base_uri": "https://localhost:8080/"
        },
        "id": "nw-MnGsf6WTp",
        "outputId": "3e890b40-3643-4c28-df3f-b34cf83ea68d"
      },
      "execution_count": 50,
      "outputs": [
        {
          "output_type": "stream",
          "name": "stdout",
          "text": [
            "[[4 2 0 1]\n",
            " [1 1 4 0]\n",
            " [0 0 2 0]]\n"
          ]
        }
      ]
    },
    {
      "cell_type": "code",
      "source": [
        "print(matrix_4)"
      ],
      "metadata": {
        "colab": {
          "base_uri": "https://localhost:8080/"
        },
        "id": "E2fiQYJm6fPI",
        "outputId": "02cc72dd-a9ed-4192-b467-77e47268f88c"
      },
      "execution_count": 34,
      "outputs": [
        {
          "output_type": "stream",
          "name": "stdout",
          "text": [
            "[[8 5 0]\n",
            " [5 5 5]\n",
            " [8 7 8]]\n"
          ]
        }
      ]
    },
    {
      "cell_type": "code",
      "source": [
        "product = np.dot(matrix_3 , matrix_4)\n",
        "print(product)"
      ],
      "metadata": {
        "colab": {
          "base_uri": "https://localhost:8080/"
        },
        "id": "jkLnbAp06ji-",
        "outputId": "75cbf663-6a1f-4a47-94a7-996aaca019fc"
      },
      "execution_count": 41,
      "outputs": [
        {
          "output_type": "stream",
          "name": "stdout",
          "text": [
            "[[16  5 18 17]\n",
            " [16  5 18 17]\n",
            " [16  5 18 17]]\n"
          ]
        }
      ]
    },
    {
      "cell_type": "code",
      "source": [],
      "metadata": {
        "id": "XtwIkvTk7AoE"
      },
      "execution_count": null,
      "outputs": []
    }
  ],
  "metadata": {
    "colab": {
      "provenance": []
    },
    "kernelspec": {
      "display_name": "Python 3",
      "name": "python3"
    },
    "language_info": {
      "name": "python"
    }
  },
  "nbformat": 4,
  "nbformat_minor": 0
}