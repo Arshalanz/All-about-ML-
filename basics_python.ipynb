{
  "nbformat": 4,
  "nbformat_minor": 0,
  "metadata": {
    "colab": {
      "provenance": [],
      "toc_visible": true
    },
    "kernelspec": {
      "name": "python3",
      "display_name": "Python 3"
    },
    "language_info": {
      "name": "python"
    }
  },
  "cells": [
    {
      "cell_type": "markdown",
      "source": [
        "#Basics of Python"
      ],
      "metadata": {
        "id": "d5vx1MPdsJ1P"
      }
    },
    {
      "cell_type": "code",
      "source": [
        "print(\"machine laearning\")"
      ],
      "metadata": {
        "colab": {
          "base_uri": "https://localhost:8080/"
        },
        "id": "52iQ7FzZsDNN",
        "outputId": "ba1487f8-32f6-4c34-8c06-cdb2990335f6"
      },
      "execution_count": null,
      "outputs": [
        {
          "output_type": "stream",
          "name": "stdout",
          "text": [
            "machine laearning\n"
          ]
        }
      ]
    },
    {
      "cell_type": "markdown",
      "source": [
        "Basic data types\n",
        "\n",
        "\n",
        "1.  int\n",
        "2.  float\n",
        "3. complex\n",
        "4. boolean\n",
        "5. string\n",
        "\n",
        "\n",
        "\n",
        "\n",
        "\n"
      ],
      "metadata": {
        "id": "t1w3_hyAsiqW"
      }
    },
    {
      "cell_type": "markdown",
      "source": [],
      "metadata": {
        "id": "eo_znRBFsFoD"
      }
    },
    {
      "cell_type": "code",
      "source": [
        "a = 8\n",
        "print(a)\n",
        "print(type(a))"
      ],
      "metadata": {
        "colab": {
          "base_uri": "https://localhost:8080/"
        },
        "id": "aNMR8AQGsQFo",
        "outputId": "08dff0c4-c610-4b9b-f89c-feb8eccc1604"
      },
      "execution_count": null,
      "outputs": [
        {
          "output_type": "stream",
          "name": "stdout",
          "text": [
            "8\n",
            "<class 'int'>\n"
          ]
        }
      ]
    },
    {
      "cell_type": "code",
      "source": [
        "a = 8.5\n",
        "print(a)\n",
        "print(type(a))"
      ],
      "metadata": {
        "colab": {
          "base_uri": "https://localhost:8080/"
        },
        "id": "x4CxSIETtkET",
        "outputId": "f3d2776f-1bb1-4236-963b-6bb7589d5d8c"
      },
      "execution_count": null,
      "outputs": [
        {
          "output_type": "stream",
          "name": "stdout",
          "text": [
            "8.5\n",
            "<class 'float'>\n"
          ]
        }
      ]
    },
    {
      "cell_type": "code",
      "source": [
        "a = \"hello ooooooo ooo\"\n",
        "print(a)\n",
        "print(type(a))"
      ],
      "metadata": {
        "colab": {
          "base_uri": "https://localhost:8080/"
        },
        "id": "CgZDyGjTtoor",
        "outputId": "bb375119-c340-4307-a769-167ac4f2fa20"
      },
      "execution_count": null,
      "outputs": [
        {
          "output_type": "stream",
          "name": "stdout",
          "text": [
            "hello ooooooo ooo\n",
            "<class 'str'>\n"
          ]
        }
      ]
    },
    {
      "cell_type": "code",
      "source": [
        "a = int(\"123\")\n",
        "print(a)\n",
        "print(type(a))\n"
      ],
      "metadata": {
        "colab": {
          "base_uri": "https://localhost:8080/"
        },
        "id": "pffK1-rIuBR3",
        "outputId": "5b34c741-e763-43d9-e1e7-c3b510ccc70f"
      },
      "execution_count": null,
      "outputs": [
        {
          "output_type": "stream",
          "name": "stdout",
          "text": [
            "123\n",
            "<class 'int'>\n"
          ]
        }
      ]
    },
    {
      "cell_type": "code",
      "source": [
        "c =  2 + 3j\n",
        "print(c)\n",
        "print(type(c))"
      ],
      "metadata": {
        "colab": {
          "base_uri": "https://localhost:8080/"
        },
        "id": "7XERmjkxuSNi",
        "outputId": "07254ffc-e074-4c36-9e14-c0d24f2e0509"
      },
      "execution_count": null,
      "outputs": [
        {
          "output_type": "stream",
          "name": "stdout",
          "text": [
            "(2+3j)\n",
            "<class 'complex'>\n"
          ]
        }
      ]
    },
    {
      "cell_type": "code",
      "source": [
        "x = 4\n",
        "print(x)\n",
        "print(type(x))"
      ],
      "metadata": {
        "colab": {
          "base_uri": "https://localhost:8080/"
        },
        "id": "L0dJKM6fvL6r",
        "outputId": "faa94441-8b2b-43b5-ad09-8cda9d83cc02"
      },
      "execution_count": null,
      "outputs": [
        {
          "output_type": "stream",
          "name": "stdout",
          "text": [
            "4\n",
            "<class 'int'>\n"
          ]
        }
      ]
    },
    {
      "cell_type": "code",
      "source": [
        "y = float(x)\n",
        "print(y)\n",
        "print(type(y))"
      ],
      "metadata": {
        "colab": {
          "base_uri": "https://localhost:8080/"
        },
        "id": "aUkse2JBvhkz",
        "outputId": "d065c6f6-4661-48be-a791-9cc6ec574988"
      },
      "execution_count": null,
      "outputs": [
        {
          "output_type": "stream",
          "name": "stdout",
          "text": [
            "4.0\n",
            "<class 'float'>\n"
          ]
        }
      ]
    },
    {
      "cell_type": "markdown",
      "source": [
        "boolean\n"
      ],
      "metadata": {
        "id": "_HI8cCM2xVnd"
      }
    },
    {
      "cell_type": "code",
      "source": [
        "a = 8<9\n",
        "print(a)\n",
        "print(type(a))"
      ],
      "metadata": {
        "colab": {
          "base_uri": "https://localhost:8080/"
        },
        "id": "_eL61iiEvrq_",
        "outputId": "fa0cbcce-b518-4f7b-ca45-3a6427daae03"
      },
      "execution_count": null,
      "outputs": [
        {
          "output_type": "stream",
          "name": "stdout",
          "text": [
            "True\n",
            "<class 'bool'>\n"
          ]
        }
      ]
    },
    {
      "cell_type": "code",
      "source": [
        "a = 8>9\n",
        "print(a)\n",
        "print(type(a))"
      ],
      "metadata": {
        "colab": {
          "base_uri": "https://localhost:8080/"
        },
        "id": "FbaQxf2_xi0C",
        "outputId": "ac671e9d-39c8-4d3b-dfbc-2a340065c4ca"
      },
      "execution_count": null,
      "outputs": [
        {
          "output_type": "stream",
          "name": "stdout",
          "text": [
            "False\n",
            "<class 'bool'>\n"
          ]
        }
      ]
    },
    {
      "cell_type": "code",
      "source": [],
      "metadata": {
        "id": "gsIvraz0xmmJ"
      },
      "execution_count": null,
      "outputs": []
    },
    {
      "cell_type": "markdown",
      "source": [
        "slicing"
      ],
      "metadata": {
        "id": "7Y-d8CTkxvlp"
      }
    },
    {
      "cell_type": "code",
      "source": [
        "a =  \"machine learning\"\n",
        "print((a)[0:4])"
      ],
      "metadata": {
        "colab": {
          "base_uri": "https://localhost:8080/"
        },
        "id": "dog4BBA3xwUd",
        "outputId": "a2d14fcc-7018-4224-b4eb-6cdc81ada194"
      },
      "execution_count": null,
      "outputs": [
        {
          "output_type": "stream",
          "name": "stdout",
          "text": [
            "mach\n"
          ]
        }
      ]
    },
    {
      "cell_type": "markdown",
      "source": [
        "concat strings\n"
      ],
      "metadata": {
        "id": "MjEUwioFyUY3"
      }
    },
    {
      "cell_type": "markdown",
      "source": [],
      "metadata": {
        "id": "k3rYVEqdyTcF"
      }
    },
    {
      "cell_type": "code",
      "source": [
        "words = \"lets \"\n",
        "words2 = \"learn\"\n",
        "print(words + words2)"
      ],
      "metadata": {
        "colab": {
          "base_uri": "https://localhost:8080/"
        },
        "id": "Mqoq6D4PyTAN",
        "outputId": "499e8a4b-4fd2-4832-bf14-8b67261c6ec9"
      },
      "execution_count": null,
      "outputs": [
        {
          "output_type": "stream",
          "name": "stdout",
          "text": [
            "lets learn\n"
          ]
        }
      ]
    },
    {
      "cell_type": "markdown",
      "source": [
        "#list , tuples ,and sets"
      ],
      "metadata": {
        "id": "Y3gBSYQZzqHE"
      }
    },
    {
      "cell_type": "markdown",
      "source": [
        "there are two types of object mutable and immutable\n",
        "\n",
        "\n"
      ],
      "metadata": {
        "id": "xYJj4WJ2z2cc"
      }
    },
    {
      "cell_type": "markdown",
      "source": [
        "immutable objects\n",
        "1. int\n",
        "2. float\n",
        "3. tuples\n",
        "4. string\n",
        "5. Boolean"
      ],
      "metadata": {
        "id": "wsNqs0Zt0HOE"
      }
    },
    {
      "cell_type": "markdown",
      "source": [
        "mutbale object\n",
        "1. list\n",
        "2. sets\n",
        "3. Dictionary\n"
      ],
      "metadata": {
        "id": "JEv13cag0Yl8"
      }
    },
    {
      "cell_type": "markdown",
      "source": [
        "list\n"
      ],
      "metadata": {
        "id": "XEvHtRTG0mj6"
      }
    },
    {
      "cell_type": "code",
      "source": [
        "my_list = [1,2,3,4,5]\n",
        "print(my_list)\n",
        "print(type(my_list))"
      ],
      "metadata": {
        "colab": {
          "base_uri": "https://localhost:8080/"
        },
        "id": "JCjBmwBo0GPI",
        "outputId": "d7d4e26b-9e7b-4093-b121-f92f9236c405"
      },
      "execution_count": null,
      "outputs": [
        {
          "output_type": "stream",
          "name": "stdout",
          "text": [
            "[1, 2, 3, 4, 5]\n",
            "<class 'list'>\n"
          ]
        }
      ]
    },
    {
      "cell_type": "code",
      "source": [
        "#list can have multiple data types\n",
        "my_list1 = [1, 2, 3.4, \"hello\", True]\n",
        "print(my_list1)"
      ],
      "metadata": {
        "colab": {
          "base_uri": "https://localhost:8080/"
        },
        "id": "ZD193hgj1w8a",
        "outputId": "3d3615a3-ab86-41a7-ac2d-0db8e1b521c1"
      },
      "execution_count": null,
      "outputs": [
        {
          "output_type": "stream",
          "name": "stdout",
          "text": [
            "[1, 2, 3.4, 'hello', True]\n"
          ]
        }
      ]
    },
    {
      "cell_type": "code",
      "source": [
        "#list are mutable---> changeable\n",
        "my_list1 = [1, 2, 3.4, \"hello\", True]\n",
        "my_list1.append(5)\n",
        "print(my_list1)\n",
        "print(my_list1[0])"
      ],
      "metadata": {
        "colab": {
          "base_uri": "https://localhost:8080/"
        },
        "id": "Ho2Pvfuh2CQ1",
        "outputId": "f4b0354f-7aba-4eaa-9a64-f17cea4de7b5"
      },
      "execution_count": null,
      "outputs": [
        {
          "output_type": "stream",
          "name": "stdout",
          "text": [
            "[1, 2, 3.4, 'hello', True, 5]\n",
            "1\n"
          ]
        }
      ]
    },
    {
      "cell_type": "code",
      "source": [
        "my_list1 = [1, 2, 3.4, \"hello\", True]\n",
        "del my_list1[2]\n",
        "print(my_list1)"
      ],
      "metadata": {
        "colab": {
          "base_uri": "https://localhost:8080/"
        },
        "id": "JGGmWigq2o6l",
        "outputId": "97552225-ccb8-46dc-ff12-6b1aee7f5671"
      },
      "execution_count": null,
      "outputs": [
        {
          "output_type": "stream",
          "name": "stdout",
          "text": [
            "[1, 2, 'hello', True]\n"
          ]
        }
      ]
    },
    {
      "cell_type": "code",
      "source": [
        "#join the list\n",
        "my_list1 = [1, 2, 3.4, \"hello\", True]\n",
        "my_list = [1,2,3,4,5]\n",
        "\n",
        "my_list3 = my_list + my_list1\n",
        "print(my_list3)"
      ],
      "metadata": {
        "colab": {
          "base_uri": "https://localhost:8080/"
        },
        "id": "U47Y1V_1OQxf",
        "outputId": "81a3137b-3b65-4d9f-975b-2312b2209a32"
      },
      "execution_count": null,
      "outputs": [
        {
          "output_type": "stream",
          "name": "stdout",
          "text": [
            "[1, 2, 3, 4, 5, 1, 2, 3.4, 'hello', True]\n"
          ]
        }
      ]
    },
    {
      "cell_type": "markdown",
      "source": [
        "#Tuple\n"
      ],
      "metadata": {
        "id": "0rpX7JZ1O86s"
      }
    },
    {
      "cell_type": "code",
      "source": [
        "tup = (1,2,3,4,5)\n",
        "print(tup)\n",
        "print(type(tup))"
      ],
      "metadata": {
        "colab": {
          "base_uri": "https://localhost:8080/"
        },
        "id": "y86RnncZO3nw",
        "outputId": "60e33c25-8487-4e56-f97b-31e3147f81ad"
      },
      "execution_count": null,
      "outputs": [
        {
          "output_type": "stream",
          "name": "stdout",
          "text": [
            "(1, 2, 3, 4, 5)\n",
            "<class 'tuple'>\n"
          ]
        }
      ]
    },
    {
      "cell_type": "code",
      "source": [
        "#tupple allow multiple data types\n",
        "tup1 = (1, 2, 3.4, \"hello\", True)\n",
        "print(tup1)"
      ],
      "metadata": {
        "colab": {
          "base_uri": "https://localhost:8080/"
        },
        "id": "_8gkiE_2PJwa",
        "outputId": "6b846ccf-66dc-445a-abe9-350afc666523"
      },
      "execution_count": null,
      "outputs": [
        {
          "output_type": "stream",
          "name": "stdout",
          "text": [
            "(1, 2, 3.4, 'hello', True)\n"
          ]
        }
      ]
    },
    {
      "cell_type": "code",
      "source": [
        "#converting list to tuple\n",
        "my_list = [1, 2, 3.4, \"hello\", True]\n",
        "my_tuple = tuple(my_list)\n",
        "print(my_tuple)"
      ],
      "metadata": {
        "colab": {
          "base_uri": "https://localhost:8080/"
        },
        "id": "74R-nFDbPU2W",
        "outputId": "e72df62e-0e8c-4844-c0e8-cf8897729fdc"
      },
      "execution_count": null,
      "outputs": [
        {
          "output_type": "stream",
          "name": "stdout",
          "text": [
            "(1, 2, 3.4, 'hello', True)\n"
          ]
        }
      ]
    },
    {
      "cell_type": "code",
      "source": [
        "print(len(my_tuple))"
      ],
      "metadata": {
        "colab": {
          "base_uri": "https://localhost:8080/"
        },
        "id": "9257SjNtPtdQ",
        "outputId": "958e05b0-6a54-41bd-f1e5-147e71dc9be9"
      },
      "execution_count": null,
      "outputs": [
        {
          "output_type": "stream",
          "name": "stdout",
          "text": [
            "5\n"
          ]
        }
      ]
    },
    {
      "cell_type": "code",
      "source": [
        "#tuple are immutable\n",
        "my_tuple.append(6)\n",
        "print(my_tuple)"
      ],
      "metadata": {
        "colab": {
          "base_uri": "https://localhost:8080/",
          "height": 176
        },
        "id": "ZgpJxqqXQOLQ",
        "outputId": "eb5d64f6-0aa2-4ac3-c986-5381e429dc37"
      },
      "execution_count": null,
      "outputs": [
        {
          "output_type": "error",
          "ename": "AttributeError",
          "evalue": "'tuple' object has no attribute 'append'",
          "traceback": [
            "\u001b[0;31m---------------------------------------------------------------------------\u001b[0m",
            "\u001b[0;31mAttributeError\u001b[0m                            Traceback (most recent call last)",
            "\u001b[0;32m<ipython-input-8-413c7987e62c>\u001b[0m in \u001b[0;36m<cell line: 2>\u001b[0;34m()\u001b[0m\n\u001b[1;32m      1\u001b[0m \u001b[0;31m#tuple are immutable\u001b[0m\u001b[0;34m\u001b[0m\u001b[0;34m\u001b[0m\u001b[0m\n\u001b[0;32m----> 2\u001b[0;31m \u001b[0mmy_tuple\u001b[0m\u001b[0;34m.\u001b[0m\u001b[0mappend\u001b[0m\u001b[0;34m(\u001b[0m\u001b[0;36m6\u001b[0m\u001b[0;34m)\u001b[0m\u001b[0;34m\u001b[0m\u001b[0;34m\u001b[0m\u001b[0m\n\u001b[0m\u001b[1;32m      3\u001b[0m \u001b[0mprint\u001b[0m\u001b[0;34m(\u001b[0m\u001b[0mmy_tuple\u001b[0m\u001b[0;34m)\u001b[0m\u001b[0;34m\u001b[0m\u001b[0;34m\u001b[0m\u001b[0m\n",
            "\u001b[0;31mAttributeError\u001b[0m: 'tuple' object has no attribute 'append'"
          ]
        }
      ]
    },
    {
      "cell_type": "markdown",
      "source": [
        "#SET"
      ],
      "metadata": {
        "id": "lwps16zrQnS_"
      }
    },
    {
      "cell_type": "code",
      "source": [
        "#set uses curly  brackets\n",
        "my_set = {1,2,3,4,5}\n",
        "print(my_set)\n",
        "print(type(my_set))"
      ],
      "metadata": {
        "colab": {
          "base_uri": "https://localhost:8080/"
        },
        "id": "OF4FBjmLQdVG",
        "outputId": "c128e05f-e1dd-42ea-9dc0-2819b92e8322"
      },
      "execution_count": null,
      "outputs": [
        {
          "output_type": "stream",
          "name": "stdout",
          "text": [
            "{1, 2, 3, 4, 5}\n",
            "<class 'set'>\n"
          ]
        }
      ]
    },
    {
      "cell_type": "code",
      "source": [
        "#set does not support indexing\n",
        "print(my_set[0])"
      ],
      "metadata": {
        "colab": {
          "base_uri": "https://localhost:8080/",
          "height": 158
        },
        "id": "p7Fc1YBvQ9vy",
        "outputId": "1a2ca22b-b909-47f6-cb2b-3eaece6bf646"
      },
      "execution_count": null,
      "outputs": [
        {
          "output_type": "error",
          "ename": "TypeError",
          "evalue": "'set' object is not subscriptable",
          "traceback": [
            "\u001b[0;31m---------------------------------------------------------------------------\u001b[0m",
            "\u001b[0;31mTypeError\u001b[0m                                 Traceback (most recent call last)",
            "\u001b[0;32m<ipython-input-13-8c614e9cbeb1>\u001b[0m in \u001b[0;36m<cell line: 2>\u001b[0;34m()\u001b[0m\n\u001b[1;32m      1\u001b[0m \u001b[0;31m#set does not support indexing\u001b[0m\u001b[0;34m\u001b[0m\u001b[0;34m\u001b[0m\u001b[0m\n\u001b[0;32m----> 2\u001b[0;31m \u001b[0mprint\u001b[0m\u001b[0;34m(\u001b[0m\u001b[0mmy_set\u001b[0m\u001b[0;34m[\u001b[0m\u001b[0;36m0\u001b[0m\u001b[0;34m]\u001b[0m\u001b[0;34m)\u001b[0m\u001b[0;34m\u001b[0m\u001b[0;34m\u001b[0m\u001b[0m\n\u001b[0m",
            "\u001b[0;31mTypeError\u001b[0m: 'set' object is not subscriptable"
          ]
        }
      ]
    },
    {
      "cell_type": "code",
      "source": [
        "#convert list into set\n",
        "my_list = [1, 2, 3.4,4 ,4, \"hello\", True]\n",
        "my_set = set(my_list)\n",
        "print(my_set)"
      ],
      "metadata": {
        "colab": {
          "base_uri": "https://localhost:8080/"
        },
        "id": "7LjPHl3uRP2d",
        "outputId": "d7e682e7-e24a-44f0-8dbd-93cac96d1e24"
      },
      "execution_count": null,
      "outputs": [
        {
          "output_type": "stream",
          "name": "stdout",
          "text": [
            "{1, 2, 3.4, 4, 'hello'}\n"
          ]
        }
      ]
    },
    {
      "cell_type": "code",
      "source": [
        "#set dows not allow dublicates values\n",
        "my_set = {1,2,3,4,5,5}\n",
        "print(my_set)"
      ],
      "metadata": {
        "colab": {
          "base_uri": "https://localhost:8080/"
        },
        "id": "CYfC_bxDRhus",
        "outputId": "d78773a0-edee-4e50-95f3-b42de7094a41"
      },
      "execution_count": null,
      "outputs": [
        {
          "output_type": "stream",
          "name": "stdout",
          "text": [
            "{1, 2, 3, 4, 5}\n"
          ]
        }
      ]
    },
    {
      "cell_type": "markdown",
      "source": [
        "#Dictonary"
      ],
      "metadata": {
        "id": "3s72NNWRSsHn"
      }
    },
    {
      "cell_type": "code",
      "source": [
        "my_dict = {'Name': 'John', 'Age': 30, 'City': 'New York'}\n",
        "print(my_dict)\n",
        "print(type(my_dict))"
      ],
      "metadata": {
        "colab": {
          "base_uri": "https://localhost:8080/"
        },
        "id": "nO83T2CFSXrK",
        "outputId": "8840af70-159e-4bed-dda6-d54a828de6a4"
      },
      "execution_count": null,
      "outputs": [
        {
          "output_type": "stream",
          "name": "stdout",
          "text": [
            "{'Name': 'John', 'Age': 30, 'City': 'New York'}\n",
            "<class 'dict'>\n"
          ]
        }
      ]
    },
    {
      "cell_type": "code",
      "source": [
        "#in dict we can call the values  by their key\n",
        "print(my_dict['Name'])\n",
        "print(my_dict['Age'])\n",
        "print(my_dict['City'])"
      ],
      "metadata": {
        "colab": {
          "base_uri": "https://localhost:8080/"
        },
        "id": "hBC_QemEUAe8",
        "outputId": "ed22dd78-e9f5-4c12-ec11-179c35153fda"
      },
      "execution_count": null,
      "outputs": [
        {
          "output_type": "stream",
          "name": "stdout",
          "text": [
            "John\n",
            "30\n",
            "New York\n"
          ]
        }
      ]
    },
    {
      "cell_type": "code",
      "source": [
        "#dictionary does not allow duplicate keys\n",
        "my_dict = {'Name': 'John', 'Age': 30, 'City': 'New York', 'Name':'John'}\n",
        "print(my_dict)"
      ],
      "metadata": {
        "colab": {
          "base_uri": "https://localhost:8080/"
        },
        "id": "k1ynFUKFUQ3f",
        "outputId": "4488eeda-a3d9-4859-8085-9b2882b9bca7"
      },
      "execution_count": null,
      "outputs": [
        {
          "output_type": "stream",
          "name": "stdout",
          "text": [
            "{'Name': 'John', 'Age': 30, 'City': 'New York'}\n"
          ]
        }
      ]
    },
    {
      "cell_type": "markdown",
      "source": [
        "#simple if else statement"
      ],
      "metadata": {
        "id": "uK9Fm_7dVtvt"
      }
    },
    {
      "cell_type": "code",
      "source": [
        "a = 5\n",
        "b = 7\n",
        "if a > b:\n",
        "  print(\"a is greater than b\")\n",
        "else:\n",
        "  print(\"b is greater than a \")"
      ],
      "metadata": {
        "colab": {
          "base_uri": "https://localhost:8080/"
        },
        "id": "0KDIrPjWUqx8",
        "outputId": "e7a031bb-452c-47b1-c4e8-48aaa07f0130"
      },
      "execution_count": null,
      "outputs": [
        {
          "output_type": "stream",
          "name": "stdout",
          "text": [
            "b is greater than a \n"
          ]
        }
      ]
    },
    {
      "cell_type": "code",
      "source": [
        "a =  int(input(\"enter your age \"))\n",
        "a2 =  int(input(\"enter your age \"))\n",
        "if a > a2:\n",
        "  print(\"a2 is younger than  b\")\n",
        "else:\n",
        "  print(\"a is younger  than a2 \")"
      ],
      "metadata": {
        "colab": {
          "base_uri": "https://localhost:8080/"
        },
        "id": "wwecc61XV_wa",
        "outputId": "390806d3-091e-4283-a638-65b12cdf4493"
      },
      "execution_count": null,
      "outputs": [
        {
          "output_type": "stream",
          "name": "stdout",
          "text": [
            "enter your age 12\n",
            "enter your age 15\n",
            "a is younger  than a2 \n"
          ]
        }
      ]
    },
    {
      "cell_type": "code",
      "source": [
        "#if elif else:\n",
        "a = 45\n",
        "b = 12\n",
        "c = 25\n",
        "if (b<a>c):\n",
        "    print(\"a is greater\")\n",
        "elif (a<b>c):\n",
        "    print(\"b is greater\")\n",
        "else:\n",
        "    print(\" C is greater \")"
      ],
      "metadata": {
        "colab": {
          "base_uri": "https://localhost:8080/"
        },
        "id": "Kl18zlYwWw_i",
        "outputId": "92425f1c-614b-4edc-bbbb-db78a6333ec1"
      },
      "execution_count": null,
      "outputs": [
        {
          "output_type": "stream",
          "name": "stdout",
          "text": [
            "a is greater\n"
          ]
        }
      ]
    },
    {
      "cell_type": "code",
      "source": [
        "#nested if statement\n",
        "a = 5\n",
        "b = 7\n",
        "c = 9\n",
        "if a > b:\n",
        "  if a > c:\n",
        "    print(\"a is greater\")\n",
        "  else:\n",
        "    print(\"c is greater\")\n",
        "else:\n",
        "  if b > c:\n",
        "    print(\"b is greater\")\n",
        "  else:\n",
        "    print(\"c is greater\")\n"
      ],
      "metadata": {
        "id": "-rO8jEjVZ9Wn",
        "colab": {
          "base_uri": "https://localhost:8080/"
        },
        "outputId": "7bf8f0cd-f177-4ea1-c220-f8c10d830c4e"
      },
      "execution_count": null,
      "outputs": [
        {
          "output_type": "stream",
          "name": "stdout",
          "text": [
            "c is greater\n"
          ]
        }
      ]
    },
    {
      "cell_type": "markdown",
      "source": [
        "#Loops in Python"
      ],
      "metadata": {
        "id": "-Qhn2t5tL4eW"
      }
    },
    {
      "cell_type": "code",
      "source": [
        "for i in range(5):   #0,1,2,3,4\n",
        "  laptop_price = int(input(\"enter the laptop price \" ))\n",
        "  print(laptop_price)"
      ],
      "metadata": {
        "colab": {
          "base_uri": "https://localhost:8080/"
        },
        "id": "q3CrwqgWJ57E",
        "outputId": "d8a2145d-d7e3-4be1-af23-8aa9db3fd71c"
      },
      "execution_count": null,
      "outputs": [
        {
          "output_type": "stream",
          "name": "stdout",
          "text": [
            "enter the laptop price 45000\n",
            "45000\n",
            "enter the laptop price 250000\n",
            "250000\n",
            "enter the laptop price 56666\n",
            "56666\n",
            "enter the laptop price 44444\n",
            "44444\n",
            "enter the laptop price 555555\n",
            "555555\n"
          ]
        }
      ]
    },
    {
      "cell_type": "code",
      "source": [
        "list = [12,34,56,7,9,5]\n",
        "for i in list:\n",
        "  print(i)"
      ],
      "metadata": {
        "colab": {
          "base_uri": "https://localhost:8080/"
        },
        "id": "ThyK9NUPNRIz",
        "outputId": "462b5f12-bedf-4bdf-8941-1f7d028051a6"
      },
      "execution_count": null,
      "outputs": [
        {
          "output_type": "stream",
          "name": "stdout",
          "text": [
            "12\n",
            "34\n",
            "56\n",
            "7\n",
            "9\n",
            "5\n"
          ]
        }
      ]
    },
    {
      "cell_type": "code",
      "source": [
        "#While loop\n",
        "i = 1\n",
        "while i < 6:\n",
        "  print(i)\n",
        "  i += 1"
      ],
      "metadata": {
        "id": "N8rl6jJKOCQQ",
        "colab": {
          "base_uri": "https://localhost:8080/"
        },
        "outputId": "456f7392-aafc-411e-919c-f9386dc8c749"
      },
      "execution_count": null,
      "outputs": [
        {
          "output_type": "stream",
          "name": "stdout",
          "text": [
            "1\n",
            "2\n",
            "3\n",
            "4\n",
            "5\n"
          ]
        }
      ]
    },
    {
      "cell_type": "markdown",
      "source": [
        "#Function\n",
        "1. function is block of code that can be reused uin program"
      ],
      "metadata": {
        "id": "WKFhgHA-9iei"
      }
    },
    {
      "cell_type": "code",
      "source": [
        "#factorial of 5\n",
        "number = int(input(\"Enter the number\" ))\n",
        "\n",
        "factorial = 1\n",
        "if number < 0:\n",
        "       print(\"Factorial does not exist for negative numbers\")\n",
        "elif number == 0:\n",
        "    print(\"The factorial of 0 is 1\")\n",
        "else:\n",
        "  for i in range(1,number + 1):\n",
        "    factorial = factorial * i\n",
        "  print(\"The factorial of\",number,\"is\",factorial)"
      ],
      "metadata": {
        "id": "3-hvQgGIsp_a",
        "colab": {
          "base_uri": "https://localhost:8080/"
        },
        "outputId": "a77c6cc6-4d5b-499b-8b17-83cf06a3a58e"
      },
      "execution_count": null,
      "outputs": [
        {
          "output_type": "stream",
          "name": "stdout",
          "text": [
            "Enter the number0\n",
            "The factorial of 0 is 1\n"
          ]
        }
      ]
    },
    {
      "cell_type": "code",
      "source": [
        "#factorial function\n",
        "\n",
        "def factrial_value(num):\n",
        "\n",
        "  factorial = 1\n",
        "  if num == 0:\n",
        "     print(\"The factorial of 0 is 1\")\n",
        "  else:\n",
        "    for i in range(1,num + 1):\n",
        "     factorial = factorial * i\n",
        "    return factorial\n",
        "\n",
        "\n"
      ],
      "metadata": {
        "id": "otBKntNv96Vg"
      },
      "execution_count": null,
      "outputs": []
    },
    {
      "cell_type": "code",
      "source": [
        "print(factrial_value(3))"
      ],
      "metadata": {
        "colab": {
          "base_uri": "https://localhost:8080/"
        },
        "id": "wHXcs6tjL0XX",
        "outputId": "7d9e52cf-fdf8-48af-9f6c-1463b1ace115"
      },
      "execution_count": null,
      "outputs": [
        {
          "output_type": "stream",
          "name": "stdout",
          "text": [
            "6\n"
          ]
        }
      ]
    },
    {
      "cell_type": "code",
      "source": [],
      "metadata": {
        "id": "hMepK7mpNABv"
      },
      "execution_count": null,
      "outputs": []
    }
  ]
}