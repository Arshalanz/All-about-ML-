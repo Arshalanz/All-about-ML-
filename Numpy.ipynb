{
  "nbformat": 4,
  "nbformat_minor": 0,
  "metadata": {
    "colab": {
      "provenance": []
    },
    "kernelspec": {
      "name": "python3",
      "display_name": "Python 3"
    },
    "language_info": {
      "name": "python"
    }
  },
  "cells": [
    {
      "cell_type": "markdown",
      "source": [
        "#numpy\n",
        "numpy is numerical python\n",
        "advantage of numerical python\n",
        "1. Allow several mathmatcials operation\n",
        "2. faster operation"
      ],
      "metadata": {
        "id": "y54Jt_ctNx_V"
      }
    },
    {
      "cell_type": "code",
      "execution_count": null,
      "metadata": {
        "id": "7RWlS0rKNnL0"
      },
      "outputs": [],
      "source": [
        "import numpy  as np\n",
        "from time import process_time"
      ]
    },
    {
      "cell_type": "markdown",
      "source": [
        "list vs numpy time taken"
      ],
      "metadata": {
        "id": "oS7JjwQXOsos"
      }
    },
    {
      "cell_type": "code",
      "source": [
        "#time take by list\n",
        "Python_list =  [i for i in range(10000)]\n",
        "\n",
        "start_time = process_time()\n",
        "\n",
        "Python_list = [i+5 for i in Python_list]\n",
        "\n",
        "end_time = process_time()\n",
        "\n",
        "print(end_time - start_time)"
      ],
      "metadata": {
        "colab": {
          "base_uri": "https://localhost:8080/"
        },
        "id": "fDKLERATOeFn",
        "outputId": "8f9e8bb9-2cc3-4ad7-aca3-21f446393bc8"
      },
      "execution_count": null,
      "outputs": [
        {
          "output_type": "stream",
          "name": "stdout",
          "text": [
            "0.0016377599999994885\n"
          ]
        }
      ]
    },
    {
      "cell_type": "code",
      "source": [
        "#time taken by numerical python\n",
        "np_array = np.array([i for i in range(10000)])\n",
        "\n",
        "start_time = process_time()\n",
        "\n",
        "np_array += 5\n",
        "\n",
        "end_time = process_time()\n",
        "\n",
        "print(end_time - start_time)"
      ],
      "metadata": {
        "colab": {
          "base_uri": "https://localhost:8080/"
        },
        "id": "nH53fOKPQlYD",
        "outputId": "b2484682-1bec-4f28-8cd3-569c98711ac8"
      },
      "execution_count": null,
      "outputs": [
        {
          "output_type": "stream",
          "name": "stdout",
          "text": [
            "0.00024999299999883817\n"
          ]
        }
      ]
    },
    {
      "cell_type": "markdown",
      "source": [
        "#numpy Arrays\n"
      ],
      "metadata": {
        "id": "Vtc-ldKWUSRj"
      }
    },
    {
      "cell_type": "code",
      "source": [
        "# list\n",
        "my_list = [1,2,3,4,5]\n",
        "print(type(my_list))\n",
        "print(my_list)"
      ],
      "metadata": {
        "colab": {
          "base_uri": "https://localhost:8080/"
        },
        "id": "fEHRzpGlTFTL",
        "outputId": "eb82d46a-082c-40c4-cdb0-bfbf1c9dce1e"
      },
      "execution_count": null,
      "outputs": [
        {
          "output_type": "stream",
          "name": "stdout",
          "text": [
            "<class 'list'>\n",
            "[1, 2, 3, 4, 5]\n"
          ]
        }
      ]
    },
    {
      "cell_type": "code",
      "source": [
        "np_array = np.array([1,2,3,4,5])\n",
        "print(type(np_array))\n",
        "\n",
        "print(np_array)"
      ],
      "metadata": {
        "colab": {
          "base_uri": "https://localhost:8080/"
        },
        "id": "a0NcqegeUfCu",
        "outputId": "7546f6a5-cbd0-4bfc-ce5e-4d25b1a08799"
      },
      "execution_count": null,
      "outputs": [
        {
          "output_type": "stream",
          "name": "stdout",
          "text": [
            "<class 'numpy.ndarray'>\n",
            "[1 2 3 4 5]\n"
          ]
        }
      ]
    },
    {
      "cell_type": "code",
      "source": [
        "#dimension in np_arrays\n",
        "a = np.array([1,2,3,4,5])\n",
        "print(a)"
      ],
      "metadata": {
        "colab": {
          "base_uri": "https://localhost:8080/"
        },
        "id": "TJtRKouvUyYx",
        "outputId": "f8650092-c89e-47cf-cd81-43cd9e342b30"
      },
      "execution_count": null,
      "outputs": [
        {
          "output_type": "stream",
          "name": "stdout",
          "text": [
            "[1 2 3 4 5]\n"
          ]
        }
      ]
    },
    {
      "cell_type": "code",
      "source": [
        "print(a.shape)"
      ],
      "metadata": {
        "colab": {
          "base_uri": "https://localhost:8080/"
        },
        "id": "YNesEugmVV8Q",
        "outputId": "d61dd52d-d613-47f5-8819-0b2d0f44d37d"
      },
      "execution_count": null,
      "outputs": [
        {
          "output_type": "stream",
          "name": "stdout",
          "text": [
            "(5,)\n"
          ]
        }
      ]
    },
    {
      "cell_type": "code",
      "source": [
        "b = np.array([(1,2,3,4,5),(6,7,8,9,20)])\n",
        "print(b)"
      ],
      "metadata": {
        "colab": {
          "base_uri": "https://localhost:8080/"
        },
        "id": "FCttcRTfVb3d",
        "outputId": "651d0eee-c5d7-4e25-af89-47425ac3d14e"
      },
      "execution_count": null,
      "outputs": [
        {
          "output_type": "stream",
          "name": "stdout",
          "text": [
            "[[ 1  2  3  4  5]\n",
            " [ 6  7  8  9 20]]\n"
          ]
        }
      ]
    },
    {
      "cell_type": "code",
      "source": [
        "b.shape"
      ],
      "metadata": {
        "colab": {
          "base_uri": "https://localhost:8080/"
        },
        "id": "VVXpWjUrVulk",
        "outputId": "e78fe17d-4c86-486e-a898-919f2daf6c2c"
      },
      "execution_count": null,
      "outputs": [
        {
          "output_type": "execute_result",
          "data": {
            "text/plain": [
              "(2, 5)"
            ]
          },
          "metadata": {},
          "execution_count": 39
        }
      ]
    },
    {
      "cell_type": "code",
      "source": [
        "b = np.array([(1,2,3,4,5),(6,7,8,9,20)],dtype = float)\n",
        "print(b)"
      ],
      "metadata": {
        "colab": {
          "base_uri": "https://localhost:8080/"
        },
        "id": "DOrTaem-V_zW",
        "outputId": "6dfa174e-884b-468b-d657-54c11b31e1ce"
      },
      "execution_count": null,
      "outputs": [
        {
          "output_type": "stream",
          "name": "stdout",
          "text": [
            "[[ 1.  2.  3.  4.  5.]\n",
            " [ 6.  7.  8.  9. 20.]]\n"
          ]
        }
      ]
    },
    {
      "cell_type": "code",
      "source": [
        "#initial place_holders in arrays\n",
        "x = np.zeros((3,4))\n",
        "print(x)"
      ],
      "metadata": {
        "colab": {
          "base_uri": "https://localhost:8080/"
        },
        "id": "WunEQMT4WTlw",
        "outputId": "c043f666-1081-4523-cf3a-c7122e74f145"
      },
      "execution_count": null,
      "outputs": [
        {
          "output_type": "stream",
          "name": "stdout",
          "text": [
            "[[0. 0. 0. 0.]\n",
            " [0. 0. 0. 0.]\n",
            " [0. 0. 0. 0.]]\n"
          ]
        }
      ]
    },
    {
      "cell_type": "code",
      "source": [
        "#create matrix of ones\n",
        "c = np.ones((3,4))\n",
        "print(c)"
      ],
      "metadata": {
        "colab": {
          "base_uri": "https://localhost:8080/"
        },
        "id": "pkfcVr8IW-ax",
        "outputId": "de0fbfca-b060-4d87-9c89-7a1aa8f56b2c"
      },
      "execution_count": null,
      "outputs": [
        {
          "output_type": "stream",
          "name": "stdout",
          "text": [
            "[[1. 1. 1. 1.]\n",
            " [1. 1. 1. 1.]\n",
            " [1. 1. 1. 1.]]\n"
          ]
        }
      ]
    },
    {
      "cell_type": "code",
      "source": [
        "#create matrix of any given number\n",
        "v = np.full((3,4),5)\n",
        "print(v)"
      ],
      "metadata": {
        "colab": {
          "base_uri": "https://localhost:8080/"
        },
        "id": "c4guDJFugZYy",
        "outputId": "b003342b-63a9-4634-df08-1836600df056"
      },
      "execution_count": null,
      "outputs": [
        {
          "output_type": "stream",
          "name": "stdout",
          "text": [
            "[[5 5 5 5]\n",
            " [5 5 5 5]\n",
            " [5 5 5 5]]\n"
          ]
        }
      ]
    },
    {
      "cell_type": "code",
      "source": [
        "#create identity matrix\n",
        "i = np.eye(4)\n",
        "print(i)"
      ],
      "metadata": {
        "colab": {
          "base_uri": "https://localhost:8080/"
        },
        "id": "YSIWoIgIglRi",
        "outputId": "20ad6c2b-1465-4e9e-b444-e4a395816426"
      },
      "execution_count": null,
      "outputs": [
        {
          "output_type": "stream",
          "name": "stdout",
          "text": [
            "[[1. 0. 0. 0.]\n",
            " [0. 1. 0. 0.]\n",
            " [0. 0. 1. 0.]\n",
            " [0. 0. 0. 1.]]\n"
          ]
        }
      ]
    },
    {
      "cell_type": "code",
      "source": [
        "#create random value numpy array matrix\n",
        "b = np.random.random((3,4))\n",
        "print(b)"
      ],
      "metadata": {
        "colab": {
          "base_uri": "https://localhost:8080/"
        },
        "id": "VIGT1vxHg1Mi",
        "outputId": "d815f2c4-c1dd-4fc3-d581-fbc1c8ea0b2a"
      },
      "execution_count": null,
      "outputs": [
        {
          "output_type": "stream",
          "name": "stdout",
          "text": [
            "[[0.67219332 0.35071045 0.2884732  0.7623987 ]\n",
            " [0.95035255 0.6752272  0.69524036 0.97762082]\n",
            " [0.51913286 0.9108193  0.16018853 0.46858463]]\n"
          ]
        }
      ]
    },
    {
      "cell_type": "code",
      "source": [
        "#random integer value array within specific radiant\n",
        "k = np.random.randint(1,100,(3,4))\n",
        "print(k)"
      ],
      "metadata": {
        "colab": {
          "base_uri": "https://localhost:8080/"
        },
        "id": "XTEG95ldhYWK",
        "outputId": "0b75ccd5-ff4f-4fb9-fe2c-17e5698792b4"
      },
      "execution_count": null,
      "outputs": [
        {
          "output_type": "stream",
          "name": "stdout",
          "text": [
            "[[62  2 87 73]\n",
            " [51 77 52 38]\n",
            " [63 65 40 41]]\n"
          ]
        }
      ]
    },
    {
      "cell_type": "code",
      "source": [
        "#number of evenly spaced values ----> spacifying the number of values required\n",
        "x = np.linspace(10,30,6)\n",
        "print(x)"
      ],
      "metadata": {
        "colab": {
          "base_uri": "https://localhost:8080/"
        },
        "id": "MjU2kXh8iE8W",
        "outputId": "643c3361-1ffe-4921-844c-0f7ab34e6066"
      },
      "execution_count": null,
      "outputs": [
        {
          "output_type": "stream",
          "name": "stdout",
          "text": [
            "[10. 14. 18. 22. 26. 30.]\n"
          ]
        }
      ]
    },
    {
      "cell_type": "code",
      "source": [
        "#array of evenly spaced values ---> specifying the steps\n",
        "e = np.arange(10,30,5)\n",
        "print(e)"
      ],
      "metadata": {
        "colab": {
          "base_uri": "https://localhost:8080/"
        },
        "id": "qRWWbCkAiwg3",
        "outputId": "bc3f8c97-1fc4-456c-f0b5-87a08fd7c0f6"
      },
      "execution_count": null,
      "outputs": [
        {
          "output_type": "stream",
          "name": "stdout",
          "text": [
            "[10 15 20 25]\n"
          ]
        }
      ]
    },
    {
      "cell_type": "code",
      "source": [
        "#convert alist to np_arrays\n",
        "list_2 = [1,2,3,4,5]\n",
        "np_array = np.asarray(list_2)\n",
        "print(np_array)\n",
        "print(type(np_array))"
      ],
      "metadata": {
        "colab": {
          "base_uri": "https://localhost:8080/"
        },
        "id": "vNIp6P5-jq2v",
        "outputId": "11c5bd20-92d1-49b9-bfd4-5585fabb2a52"
      },
      "execution_count": null,
      "outputs": [
        {
          "output_type": "stream",
          "name": "stdout",
          "text": [
            "[1 2 3 4 5]\n",
            "<class 'numpy.ndarray'>\n"
          ]
        }
      ]
    },
    {
      "cell_type": "markdown",
      "source": [
        "#Analysing numpy arrays\n"
      ],
      "metadata": {
        "id": "XPndK-bXk5Id"
      }
    },
    {
      "cell_type": "code",
      "source": [
        "a = np.random.randint(20,90,(5,5))\n",
        "print(a)"
      ],
      "metadata": {
        "colab": {
          "base_uri": "https://localhost:8080/"
        },
        "id": "CbEy71CxkMTr",
        "outputId": "b6092ab3-e2b8-43cf-e25a-a39461ae0434"
      },
      "execution_count": null,
      "outputs": [
        {
          "output_type": "stream",
          "name": "stdout",
          "text": [
            "[[23 79 76 57 89]\n",
            " [72 31 25 53 55]\n",
            " [47 51 86 71 49]\n",
            " [51 31 89 54 25]\n",
            " [33 48 55 37 28]]\n"
          ]
        }
      ]
    },
    {
      "cell_type": "code",
      "source": [
        "#shape of the array\n",
        "a.shape"
      ],
      "metadata": {
        "colab": {
          "base_uri": "https://localhost:8080/"
        },
        "id": "cdVnhde7lJ-5",
        "outputId": "94e30acc-e4c2-4399-b711-1b952f50e601"
      },
      "execution_count": null,
      "outputs": [
        {
          "output_type": "execute_result",
          "data": {
            "text/plain": [
              "(5, 5)"
            ]
          },
          "metadata": {},
          "execution_count": 62
        }
      ]
    },
    {
      "cell_type": "code",
      "source": [
        "#dimension of the array\n",
        "a.ndim"
      ],
      "metadata": {
        "colab": {
          "base_uri": "https://localhost:8080/"
        },
        "id": "H2x10wOJlasP",
        "outputId": "863b0c2d-2c93-46b7-8107-204ead79ce9e"
      },
      "execution_count": null,
      "outputs": [
        {
          "output_type": "execute_result",
          "data": {
            "text/plain": [
              "2"
            ]
          },
          "metadata": {},
          "execution_count": 64
        }
      ]
    },
    {
      "cell_type": "code",
      "source": [
        "#know the number of element in the array\n",
        "a.size"
      ],
      "metadata": {
        "colab": {
          "base_uri": "https://localhost:8080/"
        },
        "id": "JFpwpUUJldxQ",
        "outputId": "4fb25637-4f93-4aee-a2bb-7c251506f862"
      },
      "execution_count": null,
      "outputs": [
        {
          "output_type": "execute_result",
          "data": {
            "text/plain": [
              "25"
            ]
          },
          "metadata": {},
          "execution_count": 66
        }
      ]
    },
    {
      "cell_type": "code",
      "source": [
        "a.dtype"
      ],
      "metadata": {
        "colab": {
          "base_uri": "https://localhost:8080/"
        },
        "id": "PBAPHrmsl4td",
        "outputId": "69f6f468-d61f-44ec-db2e-00d27a55d2b0"
      },
      "execution_count": null,
      "outputs": [
        {
          "output_type": "execute_result",
          "data": {
            "text/plain": [
              "dtype('int64')"
            ]
          },
          "metadata": {},
          "execution_count": 67
        }
      ]
    },
    {
      "cell_type": "markdown",
      "source": [
        "#mathematicals operation on the np array"
      ],
      "metadata": {
        "id": "s6iVQtGtnOR1"
      }
    },
    {
      "cell_type": "code",
      "source": [
        "#we concat or join the list for exaample\n",
        "my_list1 = [1,2,3,4,5]\n",
        "my_list2 = [6,7,8,9,10]\n",
        "my_list = my_list1 + my_list2\n",
        "print(my_list)"
      ],
      "metadata": {
        "colab": {
          "base_uri": "https://localhost:8080/"
        },
        "id": "GFuyKAMznS8C",
        "outputId": "d21d47ec-d4f9-466b-8281-8cf8be582b56"
      },
      "execution_count": null,
      "outputs": [
        {
          "output_type": "stream",
          "name": "stdout",
          "text": [
            "[1, 2, 3, 4, 5, 6, 7, 8, 9, 10]\n"
          ]
        }
      ]
    },
    {
      "cell_type": "code",
      "source": [
        "b = np.random.randint(20,60,(3,3))\n",
        "c = np.random.randint(60,90,(3,3))\n",
        "print(b)\n",
        "print(c)"
      ],
      "metadata": {
        "colab": {
          "base_uri": "https://localhost:8080/"
        },
        "id": "hg03AuRSnX6Q",
        "outputId": "50ef3077-0bf2-4396-f078-fdd7b39a223c"
      },
      "execution_count": null,
      "outputs": [
        {
          "output_type": "stream",
          "name": "stdout",
          "text": [
            "[[58 48 23]\n",
            " [49 37 54]\n",
            " [55 33 30]]\n",
            "[[82 84 82]\n",
            " [60 68 67]\n",
            " [74 80 82]]\n"
          ]
        }
      ]
    },
    {
      "cell_type": "code",
      "source": [
        "print(b+c)\n",
        "print(b-c)\n",
        "print(b*c)\n",
        "print(b/c)"
      ],
      "metadata": {
        "colab": {
          "base_uri": "https://localhost:8080/"
        },
        "id": "DLnc4oXnntpC",
        "outputId": "4c8429ed-8cb1-4158-9a06-d51007ac0610"
      },
      "execution_count": null,
      "outputs": [
        {
          "output_type": "stream",
          "name": "stdout",
          "text": [
            "[[140 132 105]\n",
            " [109 105 121]\n",
            " [129 113 112]]\n",
            "[[-24 -36 -59]\n",
            " [-11 -31 -13]\n",
            " [-19 -47 -52]]\n",
            "[[4756 4032 1886]\n",
            " [2940 2516 3618]\n",
            " [4070 2640 2460]]\n",
            "[[0.70731707 0.57142857 0.2804878 ]\n",
            " [0.81666667 0.54411765 0.80597015]\n",
            " [0.74324324 0.4125     0.36585366]]\n"
          ]
        }
      ]
    },
    {
      "cell_type": "code",
      "source": [
        "#or we can do this\n",
        "print(np.add(b,c))\n",
        "print(np.subtract(b,c))\n",
        "print(np.multiply(b,c))\n",
        "print(np.divide(b,c))"
      ],
      "metadata": {
        "colab": {
          "base_uri": "https://localhost:8080/"
        },
        "id": "ilB6PpnXnykR",
        "outputId": "0be35eb1-3773-4e8b-c9a2-31cfbb859ab7"
      },
      "execution_count": null,
      "outputs": [
        {
          "output_type": "stream",
          "name": "stdout",
          "text": [
            "[[140 132 105]\n",
            " [109 105 121]\n",
            " [129 113 112]]\n",
            "[[-24 -36 -59]\n",
            " [-11 -31 -13]\n",
            " [-19 -47 -52]]\n",
            "[[4756 4032 1886]\n",
            " [2940 2516 3618]\n",
            " [4070 2640 2460]]\n",
            "[[0.70731707 0.57142857 0.2804878 ]\n",
            " [0.81666667 0.54411765 0.80597015]\n",
            " [0.74324324 0.4125     0.36585366]]\n"
          ]
        }
      ]
    },
    {
      "cell_type": "markdown",
      "source": [
        "Arrays Manipulation"
      ],
      "metadata": {
        "id": "gjc5FmsFpA2M"
      }
    },
    {
      "cell_type": "code",
      "source": [
        "array = np.random.randint(20,60,(3,3))\n",
        "print(array)"
      ],
      "metadata": {
        "colab": {
          "base_uri": "https://localhost:8080/"
        },
        "id": "uzi6eEGqoXLU",
        "outputId": "f1835f77-b247-4f36-d2de-f53d2b757c53"
      },
      "execution_count": null,
      "outputs": [
        {
          "output_type": "stream",
          "name": "stdout",
          "text": [
            "[[21 51 35]\n",
            " [44 58 51]\n",
            " [26 51 25]]\n"
          ]
        }
      ]
    },
    {
      "cell_type": "code",
      "source": [
        "#transspose\n",
        "transspose_array = array.T\n",
        "print(transspose_array)"
      ],
      "metadata": {
        "colab": {
          "base_uri": "https://localhost:8080/"
        },
        "id": "2bROyj2JpMjN",
        "outputId": "e6175807-b4fb-4f89-b3d0-71a4c49927f1"
      },
      "execution_count": null,
      "outputs": [
        {
          "output_type": "stream",
          "name": "stdout",
          "text": [
            "[[21 44 26]\n",
            " [51 58 51]\n",
            " [35 51 25]]\n"
          ]
        }
      ]
    },
    {
      "cell_type": "code",
      "source": [
        "#another method\n",
        "transpose = np.transpose(array)\n",
        "print(transpose)"
      ],
      "metadata": {
        "colab": {
          "base_uri": "https://localhost:8080/"
        },
        "id": "siI5pDh4pX7T",
        "outputId": "88e0262b-8ca6-4ec6-db51-6578d27f4d1c"
      },
      "execution_count": null,
      "outputs": [
        {
          "output_type": "stream",
          "name": "stdout",
          "text": [
            "[[21 44 26]\n",
            " [51 58 51]\n",
            " [35 51 25]]\n"
          ]
        }
      ]
    },
    {
      "cell_type": "code",
      "source": [
        "#reshape the array\n",
        "a = np.random.randint(20,60,(2,3))\n",
        "print(a)\n",
        "a.shape"
      ],
      "metadata": {
        "colab": {
          "base_uri": "https://localhost:8080/"
        },
        "id": "W8Ni5NI1qWeS",
        "outputId": "31cb1760-3516-42d4-a721-de8d2ec698d4"
      },
      "execution_count": null,
      "outputs": [
        {
          "output_type": "stream",
          "name": "stdout",
          "text": [
            "[[55 59 35]\n",
            " [30 22 20]]\n"
          ]
        },
        {
          "output_type": "execute_result",
          "data": {
            "text/plain": [
              "(2, 3)"
            ]
          },
          "metadata": {},
          "execution_count": 85
        }
      ]
    },
    {
      "cell_type": "code",
      "source": [
        "b = a.reshape(3,2)\n",
        "print(b)\n",
        "b.shape"
      ],
      "metadata": {
        "colab": {
          "base_uri": "https://localhost:8080/"
        },
        "id": "nQdgXnRhq3mo",
        "outputId": "6bf9a1bf-43bb-4578-a3f5-cf4589ba8604"
      },
      "execution_count": null,
      "outputs": [
        {
          "output_type": "stream",
          "name": "stdout",
          "text": [
            "[[55 59]\n",
            " [35 30]\n",
            " [22 20]]\n"
          ]
        },
        {
          "output_type": "execute_result",
          "data": {
            "text/plain": [
              "(3, 2)"
            ]
          },
          "metadata": {},
          "execution_count": 86
        }
      ]
    },
    {
      "cell_type": "code",
      "source": [],
      "metadata": {
        "id": "ugqhvVvgq-zU"
      },
      "execution_count": null,
      "outputs": []
    }
  ]
}